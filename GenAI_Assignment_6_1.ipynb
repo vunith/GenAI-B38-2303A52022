{
  "nbformat": 4,
  "nbformat_minor": 0,
  "metadata": {
    "colab": {
      "provenance": []
    },
    "kernelspec": {
      "name": "python3",
      "display_name": "Python 3"
    },
    "language_info": {
      "name": "python"
    }
  },
  "cells": [
    {
      "cell_type": "markdown",
      "source": [
        "# **1**"
      ],
      "metadata": {
        "id": "b87CA7pDLKi2"
      }
    },
    {
      "cell_type": "code",
      "execution_count": 1,
      "metadata": {
        "colab": {
          "base_uri": "https://localhost:8080/"
        },
        "id": "CNK6GNcxJG8O",
        "outputId": "92c7e6a4-43f0-445e-8011-c246303ae2b4"
      },
      "outputs": [
        {
          "output_type": "stream",
          "name": "stdout",
          "text": [
            "Epoch 1/100\n"
          ]
        },
        {
          "output_type": "stream",
          "name": "stderr",
          "text": [
            "/usr/local/lib/python3.11/dist-packages/keras/src/layers/core/dense.py:87: UserWarning: Do not pass an `input_shape`/`input_dim` argument to a layer. When using Sequential models, prefer using an `Input(shape)` object as the first layer in the model instead.\n",
            "  super().__init__(activity_regularizer=activity_regularizer, **kwargs)\n"
          ]
        },
        {
          "output_type": "stream",
          "name": "stdout",
          "text": [
            "\u001b[1m22/22\u001b[0m \u001b[32m━━━━━━━━━━━━━━━━━━━━\u001b[0m\u001b[37m\u001b[0m \u001b[1m1s\u001b[0m 13ms/step - loss: 9288990851072.0000 - mean_squared_error: 9288990851072.0000 - val_loss: 3239990788096.0000 - val_mean_squared_error: 3239990788096.0000\n",
            "Epoch 2/100\n",
            "\u001b[1m22/22\u001b[0m \u001b[32m━━━━━━━━━━━━━━━━━━━━\u001b[0m\u001b[37m\u001b[0m \u001b[1m0s\u001b[0m 6ms/step - loss: 3154254757888.0000 - mean_squared_error: 3154254757888.0000 - val_loss: 3215506276352.0000 - val_mean_squared_error: 3215506276352.0000\n",
            "Epoch 3/100\n",
            "\u001b[1m22/22\u001b[0m \u001b[32m━━━━━━━━━━━━━━━━━━━━\u001b[0m\u001b[37m\u001b[0m \u001b[1m0s\u001b[0m 3ms/step - loss: 3018632986624.0000 - mean_squared_error: 3018632986624.0000 - val_loss: 3172600643584.0000 - val_mean_squared_error: 3172600643584.0000\n",
            "Epoch 4/100\n",
            "\u001b[1m22/22\u001b[0m \u001b[32m━━━━━━━━━━━━━━━━━━━━\u001b[0m\u001b[37m\u001b[0m \u001b[1m0s\u001b[0m 4ms/step - loss: 2794760175616.0000 - mean_squared_error: 2794760175616.0000 - val_loss: 3239621427200.0000 - val_mean_squared_error: 3239621427200.0000\n",
            "Epoch 5/100\n",
            "\u001b[1m22/22\u001b[0m \u001b[32m━━━━━━━━━━━━━━━━━━━━\u001b[0m\u001b[37m\u001b[0m \u001b[1m0s\u001b[0m 4ms/step - loss: 2849942536192.0000 - mean_squared_error: 2849942536192.0000 - val_loss: 3180461293568.0000 - val_mean_squared_error: 3180461293568.0000\n",
            "Epoch 6/100\n",
            "\u001b[1m22/22\u001b[0m \u001b[32m━━━━━━━━━━━━━━━━━━━━\u001b[0m\u001b[37m\u001b[0m \u001b[1m0s\u001b[0m 4ms/step - loss: 2770837700608.0000 - mean_squared_error: 2770837700608.0000 - val_loss: 3217943166976.0000 - val_mean_squared_error: 3217943166976.0000\n",
            "Epoch 7/100\n",
            "\u001b[1m22/22\u001b[0m \u001b[32m━━━━━━━━━━━━━━━━━━━━\u001b[0m\u001b[37m\u001b[0m \u001b[1m0s\u001b[0m 4ms/step - loss: 2729346596864.0000 - mean_squared_error: 2729346596864.0000 - val_loss: 3153695604736.0000 - val_mean_squared_error: 3153695604736.0000\n",
            "Epoch 8/100\n",
            "\u001b[1m22/22\u001b[0m \u001b[32m━━━━━━━━━━━━━━━━━━━━\u001b[0m\u001b[37m\u001b[0m \u001b[1m0s\u001b[0m 4ms/step - loss: 2732901007360.0000 - mean_squared_error: 2732901007360.0000 - val_loss: 3169394884608.0000 - val_mean_squared_error: 3169394884608.0000\n",
            "Epoch 9/100\n",
            "\u001b[1m22/22\u001b[0m \u001b[32m━━━━━━━━━━━━━━━━━━━━\u001b[0m\u001b[37m\u001b[0m \u001b[1m0s\u001b[0m 4ms/step - loss: 2328079368192.0000 - mean_squared_error: 2328079368192.0000 - val_loss: 3196458369024.0000 - val_mean_squared_error: 3196458369024.0000\n",
            "Epoch 10/100\n",
            "\u001b[1m22/22\u001b[0m \u001b[32m━━━━━━━━━━━━━━━━━━━━\u001b[0m\u001b[37m\u001b[0m \u001b[1m0s\u001b[0m 4ms/step - loss: 2839371055104.0000 - mean_squared_error: 2839371055104.0000 - val_loss: 3212744327168.0000 - val_mean_squared_error: 3212744327168.0000\n",
            "Epoch 11/100\n",
            "\u001b[1m22/22\u001b[0m \u001b[32m━━━━━━━━━━━━━━━━━━━━\u001b[0m\u001b[37m\u001b[0m \u001b[1m0s\u001b[0m 5ms/step - loss: 2964702625792.0000 - mean_squared_error: 2964702625792.0000 - val_loss: 3196912926720.0000 - val_mean_squared_error: 3196912926720.0000\n",
            "Epoch 12/100\n",
            "\u001b[1m22/22\u001b[0m \u001b[32m━━━━━━━━━━━━━━━━━━━━\u001b[0m\u001b[37m\u001b[0m \u001b[1m0s\u001b[0m 4ms/step - loss: 2720118079488.0000 - mean_squared_error: 2720118079488.0000 - val_loss: 3204810539008.0000 - val_mean_squared_error: 3204810539008.0000\n",
            "Epoch 13/100\n",
            "\u001b[1m22/22\u001b[0m \u001b[32m━━━━━━━━━━━━━━━━━━━━\u001b[0m\u001b[37m\u001b[0m \u001b[1m0s\u001b[0m 4ms/step - loss: 2640127721472.0000 - mean_squared_error: 2640127721472.0000 - val_loss: 3155011043328.0000 - val_mean_squared_error: 3155011043328.0000\n",
            "Epoch 14/100\n",
            "\u001b[1m22/22\u001b[0m \u001b[32m━━━━━━━━━━━━━━━━━━━━\u001b[0m\u001b[37m\u001b[0m \u001b[1m0s\u001b[0m 6ms/step - loss: 2398701223936.0000 - mean_squared_error: 2398701223936.0000 - val_loss: 3225777864704.0000 - val_mean_squared_error: 3225777864704.0000\n",
            "Epoch 15/100\n",
            "\u001b[1m22/22\u001b[0m \u001b[32m━━━━━━━━━━━━━━━━━━━━\u001b[0m\u001b[37m\u001b[0m \u001b[1m0s\u001b[0m 4ms/step - loss: 2978192031744.0000 - mean_squared_error: 2978192031744.0000 - val_loss: 3157313716224.0000 - val_mean_squared_error: 3157313716224.0000\n",
            "Epoch 16/100\n",
            "\u001b[1m22/22\u001b[0m \u001b[32m━━━━━━━━━━━━━━━━━━━━\u001b[0m\u001b[37m\u001b[0m \u001b[1m0s\u001b[0m 3ms/step - loss: 2845070327808.0000 - mean_squared_error: 2845070327808.0000 - val_loss: 3161675005952.0000 - val_mean_squared_error: 3161675005952.0000\n",
            "Epoch 17/100\n",
            "\u001b[1m22/22\u001b[0m \u001b[32m━━━━━━━━━━━━━━━━━━━━\u001b[0m\u001b[37m\u001b[0m \u001b[1m0s\u001b[0m 4ms/step - loss: 3191337123840.0000 - mean_squared_error: 3191337123840.0000 - val_loss: 3163702951936.0000 - val_mean_squared_error: 3163702951936.0000\n",
            "Epoch 18/100\n",
            "\u001b[1m22/22\u001b[0m \u001b[32m━━━━━━━━━━━━━━━━━━━━\u001b[0m\u001b[37m\u001b[0m \u001b[1m0s\u001b[0m 4ms/step - loss: 2969357516800.0000 - mean_squared_error: 2969357516800.0000 - val_loss: 3175020756992.0000 - val_mean_squared_error: 3175020756992.0000\n",
            "Epoch 19/100\n",
            "\u001b[1m22/22\u001b[0m \u001b[32m━━━━━━━━━━━━━━━━━━━━\u001b[0m\u001b[37m\u001b[0m \u001b[1m0s\u001b[0m 3ms/step - loss: 3086037286912.0000 - mean_squared_error: 3086037286912.0000 - val_loss: 3169406681088.0000 - val_mean_squared_error: 3169406681088.0000\n",
            "Epoch 20/100\n",
            "\u001b[1m22/22\u001b[0m \u001b[32m━━━━━━━━━━━━━━━━━━━━\u001b[0m\u001b[37m\u001b[0m \u001b[1m0s\u001b[0m 4ms/step - loss: 2978095300608.0000 - mean_squared_error: 2978095300608.0000 - val_loss: 3191008395264.0000 - val_mean_squared_error: 3191008395264.0000\n",
            "Epoch 21/100\n",
            "\u001b[1m22/22\u001b[0m \u001b[32m━━━━━━━━━━━━━━━━━━━━\u001b[0m\u001b[37m\u001b[0m \u001b[1m0s\u001b[0m 5ms/step - loss: 2539085103104.0000 - mean_squared_error: 2539085103104.0000 - val_loss: 3161116639232.0000 - val_mean_squared_error: 3161116639232.0000\n",
            "Epoch 22/100\n",
            "\u001b[1m22/22\u001b[0m \u001b[32m━━━━━━━━━━━━━━━━━━━━\u001b[0m\u001b[37m\u001b[0m \u001b[1m0s\u001b[0m 6ms/step - loss: 2941308633088.0000 - mean_squared_error: 2941308633088.0000 - val_loss: 3172410589184.0000 - val_mean_squared_error: 3172410589184.0000\n",
            "Epoch 23/100\n",
            "\u001b[1m22/22\u001b[0m \u001b[32m━━━━━━━━━━━━━━━━━━━━\u001b[0m\u001b[37m\u001b[0m \u001b[1m0s\u001b[0m 6ms/step - loss: 2772141604864.0000 - mean_squared_error: 2772141604864.0000 - val_loss: 3182746140672.0000 - val_mean_squared_error: 3182746140672.0000\n",
            "Epoch 24/100\n",
            "\u001b[1m22/22\u001b[0m \u001b[32m━━━━━━━━━━━━━━━━━━━━\u001b[0m\u001b[37m\u001b[0m \u001b[1m0s\u001b[0m 5ms/step - loss: 2892440797184.0000 - mean_squared_error: 2892440797184.0000 - val_loss: 3182343487488.0000 - val_mean_squared_error: 3182343487488.0000\n",
            "Epoch 25/100\n",
            "\u001b[1m22/22\u001b[0m \u001b[32m━━━━━━━━━━━━━━━━━━━━\u001b[0m\u001b[37m\u001b[0m \u001b[1m0s\u001b[0m 3ms/step - loss: 2775144988672.0000 - mean_squared_error: 2775144988672.0000 - val_loss: 3208104116224.0000 - val_mean_squared_error: 3208104116224.0000\n",
            "Epoch 26/100\n",
            "\u001b[1m22/22\u001b[0m \u001b[32m━━━━━━━━━━━━━━━━━━━━\u001b[0m\u001b[37m\u001b[0m \u001b[1m0s\u001b[0m 4ms/step - loss: 2256797696000.0000 - mean_squared_error: 2256797696000.0000 - val_loss: 3203912171520.0000 - val_mean_squared_error: 3203912171520.0000\n",
            "Epoch 27/100\n",
            "\u001b[1m22/22\u001b[0m \u001b[32m━━━━━━━━━━━━━━━━━━━━\u001b[0m\u001b[37m\u001b[0m \u001b[1m0s\u001b[0m 4ms/step - loss: 2713638404096.0000 - mean_squared_error: 2713638404096.0000 - val_loss: 3225497108480.0000 - val_mean_squared_error: 3225497108480.0000\n",
            "Epoch 28/100\n",
            "\u001b[1m22/22\u001b[0m \u001b[32m━━━━━━━━━━━━━━━━━━━━\u001b[0m\u001b[37m\u001b[0m \u001b[1m0s\u001b[0m 5ms/step - loss: 3138682880000.0000 - mean_squared_error: 3138682880000.0000 - val_loss: 3168060833792.0000 - val_mean_squared_error: 3168060833792.0000\n",
            "Epoch 29/100\n",
            "\u001b[1m22/22\u001b[0m \u001b[32m━━━━━━━━━━━━━━━━━━━━\u001b[0m\u001b[37m\u001b[0m \u001b[1m0s\u001b[0m 4ms/step - loss: 2830075953152.0000 - mean_squared_error: 2830075953152.0000 - val_loss: 3257198444544.0000 - val_mean_squared_error: 3257198444544.0000\n",
            "Epoch 30/100\n",
            "\u001b[1m22/22\u001b[0m \u001b[32m━━━━━━━━━━━━━━━━━━━━\u001b[0m\u001b[37m\u001b[0m \u001b[1m0s\u001b[0m 4ms/step - loss: 3301138759680.0000 - mean_squared_error: 3301138759680.0000 - val_loss: 3162278461440.0000 - val_mean_squared_error: 3162278461440.0000\n",
            "Epoch 31/100\n",
            "\u001b[1m22/22\u001b[0m \u001b[32m━━━━━━━━━━━━━━━━━━━━\u001b[0m\u001b[37m\u001b[0m \u001b[1m0s\u001b[0m 3ms/step - loss: 3041115242496.0000 - mean_squared_error: 3041115242496.0000 - val_loss: 3161326616576.0000 - val_mean_squared_error: 3161326616576.0000\n",
            "Epoch 32/100\n",
            "\u001b[1m22/22\u001b[0m \u001b[32m━━━━━━━━━━━━━━━━━━━━\u001b[0m\u001b[37m\u001b[0m \u001b[1m0s\u001b[0m 5ms/step - loss: 2428662972416.0000 - mean_squared_error: 2428662972416.0000 - val_loss: 3177080684544.0000 - val_mean_squared_error: 3177080684544.0000\n",
            "Epoch 33/100\n",
            "\u001b[1m22/22\u001b[0m \u001b[32m━━━━━━━━━━━━━━━━━━━━\u001b[0m\u001b[37m\u001b[0m \u001b[1m0s\u001b[0m 4ms/step - loss: 3149127221248.0000 - mean_squared_error: 3149127221248.0000 - val_loss: 3175952416768.0000 - val_mean_squared_error: 3175952416768.0000\n",
            "Epoch 34/100\n",
            "\u001b[1m22/22\u001b[0m \u001b[32m━━━━━━━━━━━━━━━━━━━━\u001b[0m\u001b[37m\u001b[0m \u001b[1m0s\u001b[0m 4ms/step - loss: 2797850591232.0000 - mean_squared_error: 2797850591232.0000 - val_loss: 3163820654592.0000 - val_mean_squared_error: 3163820654592.0000\n",
            "Epoch 35/100\n",
            "\u001b[1m22/22\u001b[0m \u001b[32m━━━━━━━━━━━━━━━━━━━━\u001b[0m\u001b[37m\u001b[0m \u001b[1m0s\u001b[0m 3ms/step - loss: 3125214445568.0000 - mean_squared_error: 3125214445568.0000 - val_loss: 3165520658432.0000 - val_mean_squared_error: 3165520658432.0000\n",
            "Epoch 36/100\n",
            "\u001b[1m22/22\u001b[0m \u001b[32m━━━━━━━━━━━━━━━━━━━━\u001b[0m\u001b[37m\u001b[0m \u001b[1m0s\u001b[0m 4ms/step - loss: 2653539008512.0000 - mean_squared_error: 2653539008512.0000 - val_loss: 3169104953344.0000 - val_mean_squared_error: 3169104953344.0000\n",
            "Epoch 37/100\n",
            "\u001b[1m22/22\u001b[0m \u001b[32m━━━━━━━━━━━━━━━━━━━━\u001b[0m\u001b[37m\u001b[0m \u001b[1m0s\u001b[0m 3ms/step - loss: 2970848854016.0000 - mean_squared_error: 2970848854016.0000 - val_loss: 3165555785728.0000 - val_mean_squared_error: 3165555785728.0000\n",
            "Epoch 38/100\n",
            "\u001b[1m22/22\u001b[0m \u001b[32m━━━━━━━━━━━━━━━━━━━━\u001b[0m\u001b[37m\u001b[0m \u001b[1m0s\u001b[0m 4ms/step - loss: 2690805923840.0000 - mean_squared_error: 2690805923840.0000 - val_loss: 3161574080512.0000 - val_mean_squared_error: 3161574080512.0000\n",
            "Epoch 39/100\n",
            "\u001b[1m22/22\u001b[0m \u001b[32m━━━━━━━━━━━━━━━━━━━━\u001b[0m\u001b[37m\u001b[0m \u001b[1m0s\u001b[0m 3ms/step - loss: 2592573489152.0000 - mean_squared_error: 2592573489152.0000 - val_loss: 3175302299648.0000 - val_mean_squared_error: 3175302299648.0000\n",
            "Epoch 40/100\n",
            "\u001b[1m22/22\u001b[0m \u001b[32m━━━━━━━━━━━━━━━━━━━━\u001b[0m\u001b[37m\u001b[0m \u001b[1m0s\u001b[0m 5ms/step - loss: 2503210172416.0000 - mean_squared_error: 2503210172416.0000 - val_loss: 3168904413184.0000 - val_mean_squared_error: 3168904413184.0000\n",
            "Epoch 41/100\n",
            "\u001b[1m22/22\u001b[0m \u001b[32m━━━━━━━━━━━━━━━━━━━━\u001b[0m\u001b[37m\u001b[0m \u001b[1m0s\u001b[0m 4ms/step - loss: 2751375081472.0000 - mean_squared_error: 2751375081472.0000 - val_loss: 3241645965312.0000 - val_mean_squared_error: 3241645965312.0000\n",
            "Epoch 42/100\n",
            "\u001b[1m22/22\u001b[0m \u001b[32m━━━━━━━━━━━━━━━━━━━━\u001b[0m\u001b[37m\u001b[0m \u001b[1m0s\u001b[0m 4ms/step - loss: 3036289957888.0000 - mean_squared_error: 3036289957888.0000 - val_loss: 3168477904896.0000 - val_mean_squared_error: 3168477904896.0000\n",
            "Epoch 43/100\n",
            "\u001b[1m22/22\u001b[0m \u001b[32m━━━━━━━━━━━━━━━━━━━━\u001b[0m\u001b[37m\u001b[0m \u001b[1m0s\u001b[0m 4ms/step - loss: 2658777432064.0000 - mean_squared_error: 2658777432064.0000 - val_loss: 3173430853632.0000 - val_mean_squared_error: 3173430853632.0000\n",
            "Epoch 44/100\n",
            "\u001b[1m22/22\u001b[0m \u001b[32m━━━━━━━━━━━━━━━━━━━━\u001b[0m\u001b[37m\u001b[0m \u001b[1m0s\u001b[0m 4ms/step - loss: 3078295388160.0000 - mean_squared_error: 3078295388160.0000 - val_loss: 3163688271872.0000 - val_mean_squared_error: 3163688271872.0000\n",
            "Epoch 45/100\n",
            "\u001b[1m22/22\u001b[0m \u001b[32m━━━━━━━━━━━━━━━━━━━━\u001b[0m\u001b[37m\u001b[0m \u001b[1m0s\u001b[0m 4ms/step - loss: 3356854845440.0000 - mean_squared_error: 3356854845440.0000 - val_loss: 3194949206016.0000 - val_mean_squared_error: 3194949206016.0000\n",
            "Epoch 46/100\n",
            "\u001b[1m22/22\u001b[0m \u001b[32m━━━━━━━━━━━━━━━━━━━━\u001b[0m\u001b[37m\u001b[0m \u001b[1m0s\u001b[0m 4ms/step - loss: 2534746619904.0000 - mean_squared_error: 2534746619904.0000 - val_loss: 3166271963136.0000 - val_mean_squared_error: 3166271963136.0000\n",
            "Epoch 47/100\n",
            "\u001b[1m22/22\u001b[0m \u001b[32m━━━━━━━━━━━━━━━━━━━━\u001b[0m\u001b[37m\u001b[0m \u001b[1m0s\u001b[0m 4ms/step - loss: 2356292091904.0000 - mean_squared_error: 2356292091904.0000 - val_loss: 3203546218496.0000 - val_mean_squared_error: 3203546218496.0000\n",
            "Epoch 48/100\n",
            "\u001b[1m22/22\u001b[0m \u001b[32m━━━━━━━━━━━━━━━━━━━━\u001b[0m\u001b[37m\u001b[0m \u001b[1m0s\u001b[0m 4ms/step - loss: 2737611472896.0000 - mean_squared_error: 2737611472896.0000 - val_loss: 3165959225344.0000 - val_mean_squared_error: 3165959225344.0000\n",
            "Epoch 49/100\n",
            "\u001b[1m22/22\u001b[0m \u001b[32m━━━━━━━━━━━━━━━━━━━━\u001b[0m\u001b[37m\u001b[0m \u001b[1m0s\u001b[0m 4ms/step - loss: 3055098265600.0000 - mean_squared_error: 3055098265600.0000 - val_loss: 3162523303936.0000 - val_mean_squared_error: 3162523303936.0000\n",
            "Epoch 50/100\n",
            "\u001b[1m22/22\u001b[0m \u001b[32m━━━━━━━━━━━━━━━━━━━━\u001b[0m\u001b[37m\u001b[0m \u001b[1m0s\u001b[0m 4ms/step - loss: 3276884672512.0000 - mean_squared_error: 3276884672512.0000 - val_loss: 3172919410688.0000 - val_mean_squared_error: 3172919410688.0000\n",
            "Epoch 51/100\n",
            "\u001b[1m22/22\u001b[0m \u001b[32m━━━━━━━━━━━━━━━━━━━━\u001b[0m\u001b[37m\u001b[0m \u001b[1m0s\u001b[0m 4ms/step - loss: 2581772107776.0000 - mean_squared_error: 2581772107776.0000 - val_loss: 3331887988736.0000 - val_mean_squared_error: 3331887988736.0000\n",
            "Epoch 52/100\n",
            "\u001b[1m22/22\u001b[0m \u001b[32m━━━━━━━━━━━━━━━━━━━━\u001b[0m\u001b[37m\u001b[0m \u001b[1m0s\u001b[0m 4ms/step - loss: 2858157080576.0000 - mean_squared_error: 2858157080576.0000 - val_loss: 3183104491520.0000 - val_mean_squared_error: 3183104491520.0000\n",
            "Epoch 53/100\n",
            "\u001b[1m22/22\u001b[0m \u001b[32m━━━━━━━━━━━━━━━━━━━━\u001b[0m\u001b[37m\u001b[0m \u001b[1m0s\u001b[0m 4ms/step - loss: 2607016050688.0000 - mean_squared_error: 2607016050688.0000 - val_loss: 3184046112768.0000 - val_mean_squared_error: 3184046112768.0000\n",
            "Epoch 54/100\n",
            "\u001b[1m22/22\u001b[0m \u001b[32m━━━━━━━━━━━━━━━━━━━━\u001b[0m\u001b[37m\u001b[0m \u001b[1m0s\u001b[0m 4ms/step - loss: 3189859680256.0000 - mean_squared_error: 3189859680256.0000 - val_loss: 3167601557504.0000 - val_mean_squared_error: 3167601557504.0000\n",
            "Epoch 55/100\n",
            "\u001b[1m22/22\u001b[0m \u001b[32m━━━━━━━━━━━━━━━━━━━━\u001b[0m\u001b[37m\u001b[0m \u001b[1m0s\u001b[0m 4ms/step - loss: 2586831486976.0000 - mean_squared_error: 2586831486976.0000 - val_loss: 3212218466304.0000 - val_mean_squared_error: 3212218466304.0000\n",
            "Epoch 56/100\n",
            "\u001b[1m22/22\u001b[0m \u001b[32m━━━━━━━━━━━━━━━━━━━━\u001b[0m\u001b[37m\u001b[0m \u001b[1m0s\u001b[0m 4ms/step - loss: 2635807064064.0000 - mean_squared_error: 2635807064064.0000 - val_loss: 3173781864448.0000 - val_mean_squared_error: 3173781864448.0000\n",
            "Epoch 57/100\n",
            "\u001b[1m22/22\u001b[0m \u001b[32m━━━━━━━━━━━━━━━━━━━━\u001b[0m\u001b[37m\u001b[0m \u001b[1m0s\u001b[0m 5ms/step - loss: 2962667601920.0000 - mean_squared_error: 2962667601920.0000 - val_loss: 3171574349824.0000 - val_mean_squared_error: 3171574349824.0000\n",
            "Epoch 58/100\n",
            "\u001b[1m22/22\u001b[0m \u001b[32m━━━━━━━━━━━━━━━━━━━━\u001b[0m\u001b[37m\u001b[0m \u001b[1m0s\u001b[0m 7ms/step - loss: 2755944251392.0000 - mean_squared_error: 2755944251392.0000 - val_loss: 3224227020800.0000 - val_mean_squared_error: 3224227020800.0000\n",
            "Epoch 59/100\n",
            "\u001b[1m22/22\u001b[0m \u001b[32m━━━━━━━━━━━━━━━━━━━━\u001b[0m\u001b[37m\u001b[0m \u001b[1m0s\u001b[0m 7ms/step - loss: 2784325533696.0000 - mean_squared_error: 2784325533696.0000 - val_loss: 3299628023808.0000 - val_mean_squared_error: 3299628023808.0000\n",
            "Epoch 60/100\n",
            "\u001b[1m22/22\u001b[0m \u001b[32m━━━━━━━━━━━━━━━━━━━━\u001b[0m\u001b[37m\u001b[0m \u001b[1m0s\u001b[0m 8ms/step - loss: 2481985159168.0000 - mean_squared_error: 2481985159168.0000 - val_loss: 3221442002944.0000 - val_mean_squared_error: 3221442002944.0000\n",
            "Epoch 61/100\n",
            "\u001b[1m22/22\u001b[0m \u001b[32m━━━━━━━━━━━━━━━━━━━━\u001b[0m\u001b[37m\u001b[0m \u001b[1m0s\u001b[0m 7ms/step - loss: 2900998488064.0000 - mean_squared_error: 2900998488064.0000 - val_loss: 3168694173696.0000 - val_mean_squared_error: 3168694173696.0000\n",
            "Epoch 62/100\n",
            "\u001b[1m22/22\u001b[0m \u001b[32m━━━━━━━━━━━━━━━━━━━━\u001b[0m\u001b[37m\u001b[0m \u001b[1m0s\u001b[0m 8ms/step - loss: 3089534550016.0000 - mean_squared_error: 3089534550016.0000 - val_loss: 3170026651648.0000 - val_mean_squared_error: 3170026651648.0000\n",
            "Epoch 63/100\n",
            "\u001b[1m22/22\u001b[0m \u001b[32m━━━━━━━━━━━━━━━━━━━━\u001b[0m\u001b[37m\u001b[0m \u001b[1m0s\u001b[0m 6ms/step - loss: 2512022142976.0000 - mean_squared_error: 2512022142976.0000 - val_loss: 3237080203264.0000 - val_mean_squared_error: 3237080203264.0000\n",
            "Epoch 64/100\n",
            "\u001b[1m22/22\u001b[0m \u001b[32m━━━━━━━━━━━━━━━━━━━━\u001b[0m\u001b[37m\u001b[0m \u001b[1m0s\u001b[0m 5ms/step - loss: 3092209205248.0000 - mean_squared_error: 3092209205248.0000 - val_loss: 3168172769280.0000 - val_mean_squared_error: 3168172769280.0000\n",
            "Epoch 65/100\n",
            "\u001b[1m22/22\u001b[0m \u001b[32m━━━━━━━━━━━━━━━━━━━━\u001b[0m\u001b[37m\u001b[0m \u001b[1m0s\u001b[0m 4ms/step - loss: 2848607961088.0000 - mean_squared_error: 2848607961088.0000 - val_loss: 3262398595072.0000 - val_mean_squared_error: 3262398595072.0000\n",
            "Epoch 66/100\n",
            "\u001b[1m22/22\u001b[0m \u001b[32m━━━━━━━━━━━━━━━━━━━━\u001b[0m\u001b[37m\u001b[0m \u001b[1m0s\u001b[0m 4ms/step - loss: 2617831063552.0000 - mean_squared_error: 2617831063552.0000 - val_loss: 3211944525824.0000 - val_mean_squared_error: 3211944525824.0000\n",
            "Epoch 67/100\n",
            "\u001b[1m22/22\u001b[0m \u001b[32m━━━━━━━━━━━━━━━━━━━━\u001b[0m\u001b[37m\u001b[0m \u001b[1m0s\u001b[0m 4ms/step - loss: 2995338608640.0000 - mean_squared_error: 2995338608640.0000 - val_loss: 3172630528000.0000 - val_mean_squared_error: 3172630528000.0000\n",
            "Epoch 68/100\n",
            "\u001b[1m22/22\u001b[0m \u001b[32m━━━━━━━━━━━━━━━━━━━━\u001b[0m\u001b[37m\u001b[0m \u001b[1m0s\u001b[0m 4ms/step - loss: 2873814155264.0000 - mean_squared_error: 2873814155264.0000 - val_loss: 3213250265088.0000 - val_mean_squared_error: 3213250265088.0000\n",
            "Epoch 69/100\n",
            "\u001b[1m22/22\u001b[0m \u001b[32m━━━━━━━━━━━━━━━━━━━━\u001b[0m\u001b[37m\u001b[0m \u001b[1m0s\u001b[0m 6ms/step - loss: 2766838956032.0000 - mean_squared_error: 2766838956032.0000 - val_loss: 3180735234048.0000 - val_mean_squared_error: 3180735234048.0000\n",
            "Epoch 70/100\n",
            "\u001b[1m22/22\u001b[0m \u001b[32m━━━━━━━━━━━━━━━━━━━━\u001b[0m\u001b[37m\u001b[0m \u001b[1m0s\u001b[0m 9ms/step - loss: 3096823201792.0000 - mean_squared_error: 3096823201792.0000 - val_loss: 3168167264256.0000 - val_mean_squared_error: 3168167264256.0000\n",
            "Epoch 71/100\n",
            "\u001b[1m22/22\u001b[0m \u001b[32m━━━━━━━━━━━━━━━━━━━━\u001b[0m\u001b[37m\u001b[0m \u001b[1m0s\u001b[0m 10ms/step - loss: 3017579167744.0000 - mean_squared_error: 3017579167744.0000 - val_loss: 3170728411136.0000 - val_mean_squared_error: 3170728411136.0000\n",
            "Epoch 72/100\n",
            "\u001b[1m22/22\u001b[0m \u001b[32m━━━━━━━━━━━━━━━━━━━━\u001b[0m\u001b[37m\u001b[0m \u001b[1m0s\u001b[0m 8ms/step - loss: 2978818555904.0000 - mean_squared_error: 2978818555904.0000 - val_loss: 3179477467136.0000 - val_mean_squared_error: 3179477467136.0000\n",
            "Epoch 73/100\n",
            "\u001b[1m22/22\u001b[0m \u001b[32m━━━━━━━━━━━━━━━━━━━━\u001b[0m\u001b[37m\u001b[0m \u001b[1m0s\u001b[0m 8ms/step - loss: 2983356792832.0000 - mean_squared_error: 2983356792832.0000 - val_loss: 3166780260352.0000 - val_mean_squared_error: 3166780260352.0000\n",
            "Epoch 74/100\n",
            "\u001b[1m22/22\u001b[0m \u001b[32m━━━━━━━━━━━━━━━━━━━━\u001b[0m\u001b[37m\u001b[0m \u001b[1m0s\u001b[0m 9ms/step - loss: 2660482416640.0000 - mean_squared_error: 2660482416640.0000 - val_loss: 3167554371584.0000 - val_mean_squared_error: 3167554371584.0000\n",
            "Epoch 75/100\n",
            "\u001b[1m22/22\u001b[0m \u001b[32m━━━━━━━━━━━━━━━━━━━━\u001b[0m\u001b[37m\u001b[0m \u001b[1m0s\u001b[0m 8ms/step - loss: 3078121848832.0000 - mean_squared_error: 3078121848832.0000 - val_loss: 3173946228736.0000 - val_mean_squared_error: 3173946228736.0000\n",
            "Epoch 76/100\n",
            "\u001b[1m22/22\u001b[0m \u001b[32m━━━━━━━━━━━━━━━━━━━━\u001b[0m\u001b[37m\u001b[0m \u001b[1m0s\u001b[0m 6ms/step - loss: 2727692730368.0000 - mean_squared_error: 2727692730368.0000 - val_loss: 3176286650368.0000 - val_mean_squared_error: 3176286650368.0000\n",
            "Epoch 77/100\n",
            "\u001b[1m22/22\u001b[0m \u001b[32m━━━━━━━━━━━━━━━━━━━━\u001b[0m\u001b[37m\u001b[0m \u001b[1m0s\u001b[0m 4ms/step - loss: 2617443352576.0000 - mean_squared_error: 2617443352576.0000 - val_loss: 3183173173248.0000 - val_mean_squared_error: 3183173173248.0000\n",
            "Epoch 78/100\n",
            "\u001b[1m22/22\u001b[0m \u001b[32m━━━━━━━━━━━━━━━━━━━━\u001b[0m\u001b[37m\u001b[0m \u001b[1m0s\u001b[0m 6ms/step - loss: 2502324125696.0000 - mean_squared_error: 2502324125696.0000 - val_loss: 3171437772800.0000 - val_mean_squared_error: 3171437772800.0000\n",
            "Epoch 79/100\n",
            "\u001b[1m22/22\u001b[0m \u001b[32m━━━━━━━━━━━━━━━━━━━━\u001b[0m\u001b[37m\u001b[0m \u001b[1m0s\u001b[0m 7ms/step - loss: 3076139778048.0000 - mean_squared_error: 3076139778048.0000 - val_loss: 3169044398080.0000 - val_mean_squared_error: 3169044398080.0000\n",
            "Epoch 80/100\n",
            "\u001b[1m22/22\u001b[0m \u001b[32m━━━━━━━━━━━━━━━━━━━━\u001b[0m\u001b[37m\u001b[0m \u001b[1m0s\u001b[0m 7ms/step - loss: 2664172355584.0000 - mean_squared_error: 2664172355584.0000 - val_loss: 3274836803584.0000 - val_mean_squared_error: 3274836803584.0000\n",
            "Epoch 81/100\n",
            "\u001b[1m22/22\u001b[0m \u001b[32m━━━━━━━━━━━━━━━━━━━━\u001b[0m\u001b[37m\u001b[0m \u001b[1m0s\u001b[0m 7ms/step - loss: 2750888017920.0000 - mean_squared_error: 2750888017920.0000 - val_loss: 3167992414208.0000 - val_mean_squared_error: 3167992414208.0000\n",
            "Epoch 82/100\n",
            "\u001b[1m22/22\u001b[0m \u001b[32m━━━━━━━━━━━━━━━━━━━━\u001b[0m\u001b[37m\u001b[0m \u001b[1m0s\u001b[0m 7ms/step - loss: 2588199878656.0000 - mean_squared_error: 2588199878656.0000 - val_loss: 3213348831232.0000 - val_mean_squared_error: 3213348831232.0000\n",
            "Epoch 83/100\n",
            "\u001b[1m22/22\u001b[0m \u001b[32m━━━━━━━━━━━━━━━━━━━━\u001b[0m\u001b[37m\u001b[0m \u001b[1m0s\u001b[0m 7ms/step - loss: 2834483904512.0000 - mean_squared_error: 2834483904512.0000 - val_loss: 3215865151488.0000 - val_mean_squared_error: 3215865151488.0000\n",
            "Epoch 84/100\n",
            "\u001b[1m22/22\u001b[0m \u001b[32m━━━━━━━━━━━━━━━━━━━━\u001b[0m\u001b[37m\u001b[0m \u001b[1m0s\u001b[0m 7ms/step - loss: 2637938032640.0000 - mean_squared_error: 2637938032640.0000 - val_loss: 3173250760704.0000 - val_mean_squared_error: 3173250760704.0000\n",
            "Epoch 85/100\n",
            "\u001b[1m22/22\u001b[0m \u001b[32m━━━━━━━━━━━━━━━━━━━━\u001b[0m\u001b[37m\u001b[0m \u001b[1m0s\u001b[0m 7ms/step - loss: 3308419547136.0000 - mean_squared_error: 3308419547136.0000 - val_loss: 3206904283136.0000 - val_mean_squared_error: 3206904283136.0000\n",
            "Epoch 86/100\n",
            "\u001b[1m22/22\u001b[0m \u001b[32m━━━━━━━━━━━━━━━━━━━━\u001b[0m\u001b[37m\u001b[0m \u001b[1m0s\u001b[0m 7ms/step - loss: 2720087932928.0000 - mean_squared_error: 2720087932928.0000 - val_loss: 3335801274368.0000 - val_mean_squared_error: 3335801274368.0000\n",
            "Epoch 87/100\n",
            "\u001b[1m22/22\u001b[0m \u001b[32m━━━━━━━━━━━━━━━━━━━━\u001b[0m\u001b[37m\u001b[0m \u001b[1m0s\u001b[0m 8ms/step - loss: 2874162282496.0000 - mean_squared_error: 2874162282496.0000 - val_loss: 3170378973184.0000 - val_mean_squared_error: 3170378973184.0000\n",
            "Epoch 88/100\n",
            "\u001b[1m22/22\u001b[0m \u001b[32m━━━━━━━━━━━━━━━━━━━━\u001b[0m\u001b[37m\u001b[0m \u001b[1m0s\u001b[0m 7ms/step - loss: 3128243781632.0000 - mean_squared_error: 3128243781632.0000 - val_loss: 3168849887232.0000 - val_mean_squared_error: 3168849887232.0000\n",
            "Epoch 89/100\n",
            "\u001b[1m22/22\u001b[0m \u001b[32m━━━━━━━━━━━━━━━━━━━━\u001b[0m\u001b[37m\u001b[0m \u001b[1m0s\u001b[0m 7ms/step - loss: 2873221971968.0000 - mean_squared_error: 2873221971968.0000 - val_loss: 3189283487744.0000 - val_mean_squared_error: 3189283487744.0000\n",
            "Epoch 90/100\n",
            "\u001b[1m22/22\u001b[0m \u001b[32m━━━━━━━━━━━━━━━━━━━━\u001b[0m\u001b[37m\u001b[0m \u001b[1m0s\u001b[0m 6ms/step - loss: 2568206942208.0000 - mean_squared_error: 2568206942208.0000 - val_loss: 3179334074368.0000 - val_mean_squared_error: 3179334074368.0000\n",
            "Epoch 91/100\n",
            "\u001b[1m22/22\u001b[0m \u001b[32m━━━━━━━━━━━━━━━━━━━━\u001b[0m\u001b[37m\u001b[0m \u001b[1m0s\u001b[0m 7ms/step - loss: 2956816285696.0000 - mean_squared_error: 2956816285696.0000 - val_loss: 3169951940608.0000 - val_mean_squared_error: 3169951940608.0000\n",
            "Epoch 92/100\n",
            "\u001b[1m22/22\u001b[0m \u001b[32m━━━━━━━━━━━━━━━━━━━━\u001b[0m\u001b[37m\u001b[0m \u001b[1m0s\u001b[0m 7ms/step - loss: 2966781952000.0000 - mean_squared_error: 2966781952000.0000 - val_loss: 3169562132480.0000 - val_mean_squared_error: 3169562132480.0000\n",
            "Epoch 93/100\n",
            "\u001b[1m22/22\u001b[0m \u001b[32m━━━━━━━━━━━━━━━━━━━━\u001b[0m\u001b[37m\u001b[0m \u001b[1m0s\u001b[0m 5ms/step - loss: 2918104432640.0000 - mean_squared_error: 2918104432640.0000 - val_loss: 3193052332032.0000 - val_mean_squared_error: 3193052332032.0000\n",
            "Epoch 94/100\n",
            "\u001b[1m22/22\u001b[0m \u001b[32m━━━━━━━━━━━━━━━━━━━━\u001b[0m\u001b[37m\u001b[0m \u001b[1m0s\u001b[0m 5ms/step - loss: 2611039961088.0000 - mean_squared_error: 2611039961088.0000 - val_loss: 3261886889984.0000 - val_mean_squared_error: 3261886889984.0000\n",
            "Epoch 95/100\n",
            "\u001b[1m22/22\u001b[0m \u001b[32m━━━━━━━━━━━━━━━━━━━━\u001b[0m\u001b[37m\u001b[0m \u001b[1m0s\u001b[0m 6ms/step - loss: 3576154554368.0000 - mean_squared_error: 3576154554368.0000 - val_loss: 3209869131776.0000 - val_mean_squared_error: 3209869131776.0000\n",
            "Epoch 96/100\n",
            "\u001b[1m22/22\u001b[0m \u001b[32m━━━━━━━━━━━━━━━━━━━━\u001b[0m\u001b[37m\u001b[0m \u001b[1m0s\u001b[0m 9ms/step - loss: 2935118888960.0000 - mean_squared_error: 2935118888960.0000 - val_loss: 3182811676672.0000 - val_mean_squared_error: 3182811676672.0000\n",
            "Epoch 97/100\n",
            "\u001b[1m22/22\u001b[0m \u001b[32m━━━━━━━━━━━━━━━━━━━━\u001b[0m\u001b[37m\u001b[0m \u001b[1m0s\u001b[0m 8ms/step - loss: 2442877730816.0000 - mean_squared_error: 2442877730816.0000 - val_loss: 3267571744768.0000 - val_mean_squared_error: 3267571744768.0000\n",
            "Epoch 98/100\n",
            "\u001b[1m22/22\u001b[0m \u001b[32m━━━━━━━━━━━━━━━━━━━━\u001b[0m\u001b[37m\u001b[0m \u001b[1m0s\u001b[0m 6ms/step - loss: 2660846796800.0000 - mean_squared_error: 2660846796800.0000 - val_loss: 3224341577728.0000 - val_mean_squared_error: 3224341577728.0000\n",
            "Epoch 99/100\n",
            "\u001b[1m22/22\u001b[0m \u001b[32m━━━━━━━━━━━━━━━━━━━━\u001b[0m\u001b[37m\u001b[0m \u001b[1m0s\u001b[0m 8ms/step - loss: 2732513820672.0000 - mean_squared_error: 2732513820672.0000 - val_loss: 3199236571136.0000 - val_mean_squared_error: 3199236571136.0000\n",
            "Epoch 100/100\n",
            "\u001b[1m22/22\u001b[0m \u001b[32m━━━━━━━━━━━━━━━━━━━━\u001b[0m\u001b[37m\u001b[0m \u001b[1m0s\u001b[0m 8ms/step - loss: 2628661805056.0000 - mean_squared_error: 2628661805056.0000 - val_loss: 3290429915136.0000 - val_mean_squared_error: 3290429915136.0000\n"
          ]
        },
        {
          "output_type": "stream",
          "name": "stderr",
          "text": [
            "WARNING:absl:You are saving your model as an HDF5 file via `model.save()` or `keras.saving.save_model(model)`. This file format is considered legacy. We recommend using instead the native Keras format, e.g. `model.save('my_model.keras')` or `keras.saving.save_model(model, 'my_model.keras')`. \n"
          ]
        }
      ],
      "source": [
        "import pandas as pd\n",
        "import numpy as np\n",
        "from sklearn.model_selection import train_test_split\n",
        "from sklearn.preprocessing import StandardScaler\n",
        "from keras.models import Sequential\n",
        "from keras.layers import Dense\n",
        "from keras.optimizers import SGD\n",
        "\n",
        "# Load the dataset\n",
        "data = pd.read_csv('Housing.csv')\n",
        "\n",
        "# Convert categorical variables to numerical\n",
        "data['mainroad'] = data['mainroad'].map({'yes': 1, 'no': 0})\n",
        "data['guestroom'] = data['guestroom'].map({'yes': 1, 'no': 0})\n",
        "data['basement'] = data['basement'].map({'yes': 1, 'no': 0})\n",
        "data['hotwaterheating'] = data['hotwaterheating'].map({'yes': 1, 'no': 0})\n",
        "data['airconditioning'] = data['airconditioning'].map({'yes': 1, 'no': 0})\n",
        "data['prefarea'] = data['prefarea'].map({'yes': 1, 'no': 0})\n",
        "data['furnishingstatus'] = data['furnishingstatus'].map({'furnished': 2, 'semi-furnished': 1, 'unfurnished': 0})\n",
        "\n",
        "# Separate features and target\n",
        "X = data.drop('price', axis=1)\n",
        "y = data['price']\n",
        "\n",
        "# Split the data into training and testing sets\n",
        "X_train, X_test, y_train, y_test = train_test_split(X, y, test_size=0.2, random_state=42)\n",
        "\n",
        "# Standardize the features\n",
        "scaler = StandardScaler()\n",
        "X_train = scaler.fit_transform(X_train)\n",
        "X_test = scaler.transform(X_test)\n",
        "\n",
        "# Define the ANN model\n",
        "model = Sequential()\n",
        "model.add(Dense(15, input_dim=X_train.shape[1], activation='tanh'))\n",
        "model.add(Dense(20, activation='tanh'))\n",
        "model.add(Dense(15, activation='tanh'))\n",
        "model.add(Dense(1, activation='linear'))\n",
        "\n",
        "# Compile the model\n",
        "optimizer = SGD(learning_rate=0.01)\n",
        "model.compile(loss='mean_squared_error', optimizer=optimizer, metrics=['mean_squared_error'])\n",
        "\n",
        "# Train the model\n",
        "history = model.fit(X_train, y_train, epochs=100, batch_size=16, validation_split=0.2)\n",
        "\n",
        "# Save the model\n",
        "model.save('housing_model.h5')"
      ]
    },
    {
      "cell_type": "markdown",
      "source": [
        "# **Q2**"
      ],
      "metadata": {
        "id": "m31OfccCMRiO"
      }
    },
    {
      "cell_type": "code",
      "source": [
        "# Evaluate the model on training data\n",
        "train_loss, train_mse = model.evaluate(X_train, y_train, verbose=0)\n",
        "print(f\"Training MSE: {train_mse}\")\n",
        "\n",
        "# Evaluate the model on testing data\n",
        "test_loss, test_mse = model.evaluate(X_test, y_test, verbose=0)\n",
        "print(f\"Testing MSE: {test_mse}\")"
      ],
      "metadata": {
        "colab": {
          "base_uri": "https://localhost:8080/"
        },
        "id": "ADJ7GI32MWWQ",
        "outputId": "1c48e944-966e-40ef-b66a-aa6eb4eaa54b"
      },
      "execution_count": 2,
      "outputs": [
        {
          "output_type": "stream",
          "name": "stdout",
          "text": [
            "Training MSE: 2982754123776.0\n",
            "Testing MSE: 4542945558528.0\n"
          ]
        }
      ]
    },
    {
      "cell_type": "markdown",
      "source": [
        "# **Q3**"
      ],
      "metadata": {
        "id": "qrhbmKO-MbVN"
      }
    },
    {
      "cell_type": "code",
      "source": [
        "from keras.models import load_model\n",
        "\n",
        "# Load the saved model\n",
        "loaded_model = load_model('housing_model.h5')\n",
        "\n",
        "# Predict housing prices using the loaded model\n",
        "predictions = loaded_model.predict(X_test)\n",
        "\n",
        "# Display some predictions\n",
        "for i in range(5):\n",
        "    print(f\"Predicted: {predictions[i][0]}, Actual: {y_test.iloc[i]}\")"
      ],
      "metadata": {
        "colab": {
          "base_uri": "https://localhost:8080/"
        },
        "id": "pkHNmYL5MftH",
        "outputId": "2e30fa24-601a-4bdb-aeea-2702000fe532"
      },
      "execution_count": 3,
      "outputs": [
        {
          "output_type": "stream",
          "name": "stderr",
          "text": [
            "WARNING:absl:Compiled the loaded model, but the compiled metrics have yet to be built. `model.compile_metrics` will be empty until you train or evaluate the model.\n"
          ]
        },
        {
          "output_type": "stream",
          "name": "stdout",
          "text": [
            "\u001b[1m4/4\u001b[0m \u001b[32m━━━━━━━━━━━━━━━━━━━━\u001b[0m\u001b[37m\u001b[0m \u001b[1m0s\u001b[0m 20ms/step\n",
            "Predicted: 5236867.0, Actual: 4060000\n",
            "Predicted: 5236867.0, Actual: 6650000\n",
            "Predicted: 3107745.25, Actual: 3710000\n",
            "Predicted: 4421624.0, Actual: 6440000\n",
            "Predicted: 4445560.5, Actual: 2800000\n"
          ]
        }
      ]
    }
  ]
}